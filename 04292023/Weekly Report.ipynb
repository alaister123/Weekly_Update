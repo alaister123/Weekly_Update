{
 "cells": [
  {
   "cell_type": "markdown",
   "id": "845ce620",
   "metadata": {},
   "source": [
    "# Weekly Report\n",
    "\n",
    "[Evaluating Groundedness in Dialogue Systems: The BEGIN Benchmark](https://arxiv.org/abs/2105.00071v1)\n",
    "\n",
    "[RQUGE: Reference-Free Metric for Evaluating Question Generation by Answering the Question](https://arxiv.org/abs/2211.01482)\n",
    "\n",
    "[Human Evaluation of Conversations is an Open Problem: comparing the sensitivity of various methods for evaluating dialogue agents](https://arxiv.org/abs/2211.01482)\n",
    "\n",
    "BartScore on EvalBase Addon\n",
    "\n",
    "# Next Week\n",
    "\n",
    "Contact the author for Training-Free-and-Ref-Free-Summ-Evaluation Paper, check if the function works properly."
   ]
  },
  {
   "cell_type": "code",
   "execution_count": null,
   "id": "089930e4",
   "metadata": {},
   "outputs": [],
   "source": []
  }
 ],
 "metadata": {
  "kernelspec": {
   "display_name": "Python 3",
   "language": "python",
   "name": "python3"
  },
  "language_info": {
   "codemirror_mode": {
    "name": "ipython",
    "version": 3
   },
   "file_extension": ".py",
   "mimetype": "text/x-python",
   "name": "python",
   "nbconvert_exporter": "python",
   "pygments_lexer": "ipython3",
   "version": "3.8.5"
  }
 },
 "nbformat": 4,
 "nbformat_minor": 5
}
