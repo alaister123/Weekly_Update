{
 "cells": [
  {
   "cell_type": "markdown",
   "id": "cfb36d03",
   "metadata": {},
   "source": [
    "# Weekly Update\n",
    "---\n",
    "\n",
    "1. [addon](https://github.com/alaister123/Addon_EvalBase) meteor to HuggingFace\n",
    "2. [Sentence Mover's Distance function](https://github.com/alaister123/Addon_EvalBase/blob/main/wmd_master/SMD_scorer.py#L220)\n",
    "3. The 3rd research paper coding (I am not sure if this one will work, I can't run it so I wrote the code without running it once)\n",
    "4. Wrote some problems I faced when running the addon\n",
    "\n",
    "\n",
    "# Next Week\n",
    "\n",
    "1. Gonna read the papers sent on discord"
   ]
  },
  {
   "cell_type": "code",
   "execution_count": null,
   "id": "e6a5879f",
   "metadata": {},
   "outputs": [],
   "source": []
  }
 ],
 "metadata": {
  "kernelspec": {
   "display_name": "Python 3",
   "language": "python",
   "name": "python3"
  },
  "language_info": {
   "codemirror_mode": {
    "name": "ipython",
    "version": 3
   },
   "file_extension": ".py",
   "mimetype": "text/x-python",
   "name": "python",
   "nbconvert_exporter": "python",
   "pygments_lexer": "ipython3",
   "version": "3.8.5"
  }
 },
 "nbformat": 4,
 "nbformat_minor": 5
}
