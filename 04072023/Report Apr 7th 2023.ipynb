{
 "cells": [
  {
   "cell_type": "markdown",
   "id": "06098870",
   "metadata": {},
   "source": [
    "# Weekly Report Apr 7th 2023"
   ]
  },
  {
   "cell_type": "markdown",
   "id": "5f58540f",
   "metadata": {},
   "source": [
    "## Completed\n",
    "\n",
    "### Read\n",
    "\n",
    "A Survey of Evaluation Metrics Used for NLG Systems\n",
    "\n",
    "A Survey of Natural Language Generation\n",
    "\n",
    "A Tutorial on Evaluation Metrics used in Natural Language Generation\n",
    "\n",
    "Reread previous papers, see if can understand better\n",
    "\n",
    "Any other paper that I think may be useful for a better understanding for this area of research\n",
    "\n",
    "\n",
    "### Code\n",
    "\n",
    "The words ROUGE, METEOR and BLEU pops up a lot in the papers I have read. I'm going to check them out by coding some examples\n",
    "\n",
    "\n",
    "\n",
    "-----------------------------\n",
    "\n",
    "\n",
    "## Todos Next Week\n",
    "\n",
    "### Read\n",
    "\n",
    "ROUGE paper\n",
    "\n",
    "BLEU paper\n",
    "\n",
    "METEOR paper\n",
    "\n",
    "\n",
    "### Code\n",
    "\n",
    "Use evaluation metrics to evaluate CNN dataset\n"
   ]
  },
  {
   "cell_type": "markdown",
   "id": "f35d3314",
   "metadata": {},
   "source": []
  }
 ],
 "metadata": {
  "kernelspec": {
   "display_name": "Python 3",
   "language": "python",
   "name": "python3"
  },
  "language_info": {
   "codemirror_mode": {
    "name": "ipython",
    "version": 3
   },
   "file_extension": ".py",
   "mimetype": "text/x-python",
   "name": "python",
   "nbconvert_exporter": "python",
   "pygments_lexer": "ipython3",
   "version": "3.8.5"
  }
 },
 "nbformat": 4,
 "nbformat_minor": 5
}
