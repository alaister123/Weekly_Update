{
 "cells": [
  {
   "cell_type": "code",
   "execution_count": 1,
   "id": "9c1cee57",
   "metadata": {},
   "outputs": [],
   "source": [
    "import evaluate\n",
    "import functools"
   ]
  },
  {
   "cell_type": "markdown",
   "id": "d6a7bda5",
   "metadata": {},
   "source": [
    "Write here just incase i forget\n",
    "\n",
    "\n",
    "evaluate's sacrebleu model looks at len 5 array prediction as a single tokenized prediction\n",
    "\n",
    "\n",
    "this will cause problems in EvalBase.py\n",
    "specifically model eval function. instead of generating 5 individual scores, it will only generate one\n",
    "this will cause the program to break down on batched_corr function because it assumes it generate 5, and compares to 5 human scores\n",
    "\n",
    "cc = eval(f\"scipy.stats.{corr_metric}\")(human_score, metric_score)[0]\n",
    "\n",
    "scipy metic will break cuz human score len = 5\n",
    "but metric score len = 1"
   ]
  },
  {
   "cell_type": "code",
   "execution_count": 2,
   "id": "680ed129",
   "metadata": {},
   "outputs": [],
   "source": [
    "model = evaluate.load(\"sacrebleu\")"
   ]
  },
  {
   "cell_type": "code",
   "execution_count": 3,
   "id": "cb5c4ad0",
   "metadata": {},
   "outputs": [],
   "source": [
    "predictions = [\"With plenty at stake for both United and City -- both sides are challenging for a top-four spot in the Premier League -- some may feel that the 4pm start could be unwise as it allows supporters more time in the pub .    Police say they have no objections to the late afternoon kick-off for Sunday 's Manchester derby at Old Trafford .    However , the man in charge of patrolling the sell-out clash has no such fears .\",\n",
    " \"police say they have no objections to the late afternoon kick-off for sunday 's manchester derby at old trafford .   police say they have no objections to sunday 's manchester derby taking place in the late afternoon .   rio ferdinand was hit by an object thrown from the crowd during the manchester derby in december 2012 .\",\n",
    " \"Police say they have no objections to the late afternoon kick-off for Sunday 's Manchester derby at Old Trafford .   With plenty at stake for both United and City -- both sides are challenging for a top-four spot in the Premier League -- some may feel that the 4pm start could be unwise as it allows supporters more time in the pub .   However , the man in charge of patrolling the sell-out clash has no such fears .   Chief Superintendent John O'Hare says the kick-off was agreed by all parties and revealed that the decision is down to good behaviour from supporters of each side .\",\n",
    " \"police say they have no objections to the late afternoon kick-off for sunday 's manchester derby at old trafford .   police say they have no objections to sunday 's manchester derby taking place in the late afternoon   however , the man in charge of patrolling the sell-out clash has no such fears .\",\n",
    " \"police say they have no objections to the late afternoon kick-off for sunday 's manchester derby at old trafford .   police say they have no objections to sunday 's manchester derby taking place in the late afternoon .   however , the man in charge of patrolling the sell-out clash has no such fears .\"]"
   ]
  },
  {
   "cell_type": "code",
   "execution_count": 4,
   "id": "35a023ba",
   "metadata": {},
   "outputs": [],
   "source": [
    "references = [\"manchester united take on manchester city on sunday .    match will begin at 4pm local time at united 's old trafford home .    police have no objections to kick-off being so late in the afternoon .    last late afternoon weekend kick-off in the manchester derby saw 34 fans arrested at wembley in 2011 fa cup semi-final .\",\n",
    " \"manchester united take on manchester city on sunday .    match will begin at 4pm local time at united 's old trafford home .    police have no objections to kick-off being so late in the afternoon .    last late afternoon weekend kick-off in the manchester derby saw 34 fans arrested at wembley in 2011 fa cup semi-final .\",\n",
    " \"manchester united take on manchester city on sunday .    match will begin at 4pm local time at united 's old trafford home .    police have no objections to kick-off being so late in the afternoon .    last late afternoon weekend kick-off in the manchester derby saw 34 fans arrested at wembley in 2011 fa cup semi-final .\",\n",
    " \"manchester united take on manchester city on sunday .    match will begin at 4pm local time at united 's old trafford home .    police have no objections to kick-off being so late in the afternoon .    last late afternoon weekend kick-off in the manchester derby saw 34 fans arrested at wembley in 2011 fa cup semi-final .\",\n",
    " \"manchester united take on manchester city on sunday .    match will begin at 4pm local time at united 's old trafford home .    police have no objections to kick-off being so late in the afternoon .    last late afternoon weekend kick-off in the manchester derby saw 34 fans arrested at wembley in 2011 fa cup semi-final .\"]"
   ]
  },
  {
   "cell_type": "code",
   "execution_count": 5,
   "id": "ec7840e5",
   "metadata": {},
   "outputs": [
    {
     "data": {
      "text/plain": [
       "5"
      ]
     },
     "execution_count": 5,
     "metadata": {},
     "output_type": "execute_result"
    }
   ],
   "source": [
    "len(predictions)"
   ]
  },
  {
   "cell_type": "code",
   "execution_count": 6,
   "id": "b8f521ed",
   "metadata": {},
   "outputs": [
    {
     "data": {
      "text/plain": [
       "5"
      ]
     },
     "execution_count": 6,
     "metadata": {},
     "output_type": "execute_result"
    }
   ],
   "source": [
    "len(references)"
   ]
  },
  {
   "cell_type": "markdown",
   "id": "1fdf7120",
   "metadata": {},
   "source": [
    "### indicated below will only generate 1 score"
   ]
  },
  {
   "cell_type": "code",
   "execution_count": 7,
   "id": "d70de563",
   "metadata": {},
   "outputs": [],
   "source": [
    "results = model.compute(predictions=predictions, references=references)"
   ]
  },
  {
   "cell_type": "code",
   "execution_count": 8,
   "id": "12cdd169",
   "metadata": {},
   "outputs": [
    {
     "data": {
      "text/plain": [
       "{'score': 6.563580991514543,\n",
       " 'counts': [119, 39, 11, 5],\n",
       " 'totals': [350, 345, 340, 335],\n",
       " 'precisions': [34.0,\n",
       "  11.304347826086957,\n",
       "  3.235294117647059,\n",
       "  1.492537313432836],\n",
       " 'bp': 1.0,\n",
       " 'sys_len': 350,\n",
       " 'ref_len': 285}"
      ]
     },
     "execution_count": 8,
     "metadata": {},
     "output_type": "execute_result"
    }
   ],
   "source": [
    "results"
   ]
  },
  {
   "cell_type": "code",
   "execution_count": 9,
   "id": "5ca52a47",
   "metadata": {},
   "outputs": [],
   "source": [
    "model = functools.partial(evaluate.load(\"sacrebleu\").compute,  use_aggregator=False)"
   ]
  },
  {
   "cell_type": "code",
   "execution_count": 10,
   "id": "ce3398eb",
   "metadata": {},
   "outputs": [
    {
     "ename": "TypeError",
     "evalue": "_compute() got an unexpected keyword argument 'use_aggregator'",
     "output_type": "error",
     "traceback": [
      "\u001b[1;31m---------------------------------------------------------------------------\u001b[0m",
      "\u001b[1;31mTypeError\u001b[0m                                 Traceback (most recent call last)",
      "\u001b[1;32m<ipython-input-10-f4126d0a6c04>\u001b[0m in \u001b[0;36m<module>\u001b[1;34m\u001b[0m\n\u001b[1;32m----> 1\u001b[1;33m \u001b[0mresults\u001b[0m \u001b[1;33m=\u001b[0m \u001b[0mmodel\u001b[0m\u001b[1;33m(\u001b[0m\u001b[0mpredictions\u001b[0m\u001b[1;33m=\u001b[0m\u001b[0mpredictions\u001b[0m\u001b[1;33m,\u001b[0m \u001b[0mreferences\u001b[0m\u001b[1;33m=\u001b[0m\u001b[0mreferences\u001b[0m\u001b[1;33m)\u001b[0m\u001b[1;33m\u001b[0m\u001b[1;33m\u001b[0m\u001b[0m\n\u001b[0m",
      "\u001b[1;32m~\\anaconda3\\lib\\site-packages\\evaluate\\module.py\u001b[0m in \u001b[0;36mcompute\u001b[1;34m(self, predictions, references, **kwargs)\u001b[0m\n\u001b[0;32m    442\u001b[0m             \u001b[0minputs\u001b[0m \u001b[1;33m=\u001b[0m \u001b[1;33m{\u001b[0m\u001b[0minput_name\u001b[0m\u001b[1;33m:\u001b[0m \u001b[0mself\u001b[0m\u001b[1;33m.\u001b[0m\u001b[0mdata\u001b[0m\u001b[1;33m[\u001b[0m\u001b[0minput_name\u001b[0m\u001b[1;33m]\u001b[0m \u001b[1;32mfor\u001b[0m \u001b[0minput_name\u001b[0m \u001b[1;32min\u001b[0m \u001b[0mself\u001b[0m\u001b[1;33m.\u001b[0m\u001b[0m_feature_names\u001b[0m\u001b[1;33m(\u001b[0m\u001b[1;33m)\u001b[0m\u001b[1;33m}\u001b[0m\u001b[1;33m\u001b[0m\u001b[1;33m\u001b[0m\u001b[0m\n\u001b[0;32m    443\u001b[0m             \u001b[1;32mwith\u001b[0m \u001b[0mtemp_seed\u001b[0m\u001b[1;33m(\u001b[0m\u001b[0mself\u001b[0m\u001b[1;33m.\u001b[0m\u001b[0mseed\u001b[0m\u001b[1;33m)\u001b[0m\u001b[1;33m:\u001b[0m\u001b[1;33m\u001b[0m\u001b[1;33m\u001b[0m\u001b[0m\n\u001b[1;32m--> 444\u001b[1;33m                 \u001b[0moutput\u001b[0m \u001b[1;33m=\u001b[0m \u001b[0mself\u001b[0m\u001b[1;33m.\u001b[0m\u001b[0m_compute\u001b[0m\u001b[1;33m(\u001b[0m\u001b[1;33m**\u001b[0m\u001b[0minputs\u001b[0m\u001b[1;33m,\u001b[0m \u001b[1;33m**\u001b[0m\u001b[0mcompute_kwargs\u001b[0m\u001b[1;33m)\u001b[0m\u001b[1;33m\u001b[0m\u001b[1;33m\u001b[0m\u001b[0m\n\u001b[0m\u001b[0;32m    445\u001b[0m \u001b[1;33m\u001b[0m\u001b[0m\n\u001b[0;32m    446\u001b[0m             \u001b[1;32mif\u001b[0m \u001b[0mself\u001b[0m\u001b[1;33m.\u001b[0m\u001b[0mbuf_writer\u001b[0m \u001b[1;32mis\u001b[0m \u001b[1;32mnot\u001b[0m \u001b[1;32mNone\u001b[0m\u001b[1;33m:\u001b[0m\u001b[1;33m\u001b[0m\u001b[1;33m\u001b[0m\u001b[0m\n",
      "\u001b[1;31mTypeError\u001b[0m: _compute() got an unexpected keyword argument 'use_aggregator'"
     ]
    }
   ],
   "source": [
    "results = model(predictions=predictions, references=references)"
   ]
  },
  {
   "cell_type": "markdown",
   "id": "5f640b8c",
   "metadata": {},
   "source": [
    "### Rouge doesnt have this problem because the aggregator can be turned off"
   ]
  },
  {
   "cell_type": "code",
   "execution_count": 11,
   "id": "2890992f",
   "metadata": {},
   "outputs": [],
   "source": [
    "rouge = functools.partial(evaluate.load(\"rouge\").compute,  use_aggregator=False)"
   ]
  },
  {
   "cell_type": "code",
   "execution_count": 12,
   "id": "ab3bb8b2",
   "metadata": {},
   "outputs": [],
   "source": [
    "results = rouge(predictions=predictions, references=references)"
   ]
  },
  {
   "cell_type": "code",
   "execution_count": 13,
   "id": "558a99e0",
   "metadata": {},
   "outputs": [
    {
     "data": {
      "text/plain": [
       "{'rouge1': [0.3939393939393939,\n",
       "  0.4324324324324324,\n",
       "  0.3478260869565218,\n",
       "  0.42592592592592593,\n",
       "  0.42592592592592593],\n",
       " 'rouge2': [0.13846153846153847,\n",
       "  0.16513761467889906,\n",
       "  0.12578616352201258,\n",
       "  0.1509433962264151,\n",
       "  0.1509433962264151],\n",
       " 'rougeL': [0.2727272727272727,\n",
       "  0.3063063063063063,\n",
       "  0.1739130434782609,\n",
       "  0.27777777777777773,\n",
       "  0.27777777777777773],\n",
       " 'rougeLsum': [0.2727272727272727,\n",
       "  0.3063063063063063,\n",
       "  0.1739130434782609,\n",
       "  0.27777777777777773,\n",
       "  0.27777777777777773]}"
      ]
     },
     "execution_count": 13,
     "metadata": {},
     "output_type": "execute_result"
    }
   ],
   "source": [
    "results"
   ]
  },
  {
   "cell_type": "markdown",
   "id": "22f85500",
   "metadata": {},
   "source": [
    "### Bleu doesnt have a option to turn off the aggregator"
   ]
  },
  {
   "cell_type": "markdown",
   "id": "4599313e",
   "metadata": {},
   "source": [
    "### to fix the problem, need to add 1 more loop to generate 5"
   ]
  },
  {
   "cell_type": "code",
   "execution_count": 16,
   "id": "f2e5a793",
   "metadata": {},
   "outputs": [
    {
     "name": "stdout",
     "output_type": "stream",
     "text": [
      "{'score': 5.141544895026856, 'counts': [21, 6, 2, 1], 'totals': [79, 78, 77, 76], 'precisions': [26.582278481012658, 7.6923076923076925, 2.5974025974025974, 1.3157894736842106], 'bp': 1.0, 'sys_len': 79, 'ref_len': 57}\n",
      "{'score': 9.52398752064215, 'counts': [26, 10, 3, 1], 'totals': [57, 56, 55, 54], 'precisions': [45.6140350877193, 17.857142857142858, 5.454545454545454, 1.8518518518518519], 'bp': 1.0, 'sys_len': 57, 'ref_len': 57}\n",
      "{'score': 3.8636626550648483, 'counts': [23, 6, 2, 1], 'totals': [107, 106, 105, 104], 'precisions': [21.49532710280374, 5.660377358490566, 1.9047619047619047, 0.9615384615384616], 'bp': 1.0, 'sys_len': 107, 'ref_len': 57}\n",
      "{'score': 7.972619098465378, 'counts': [24, 8, 2, 1], 'totals': [53, 52, 51, 50], 'precisions': [45.283018867924525, 15.384615384615385, 3.9215686274509802, 2.0], 'bp': 0.9273059746713349, 'sys_len': 53, 'ref_len': 57}\n",
      "{'score': 8.300702902525652, 'counts': [25, 9, 2, 1], 'totals': [54, 53, 52, 51], 'precisions': [46.2962962962963, 16.9811320754717, 3.8461538461538463, 1.9607843137254901], 'bp': 0.9459594689067654, 'sys_len': 54, 'ref_len': 57}\n"
     ]
    }
   ],
   "source": [
    "model = evaluate.load(\"sacrebleu\")\n",
    "for p,r in zip(predictions, references):\n",
    "    results = model.compute(predictions=[p], references=[r])\n",
    "    print(results)"
   ]
  },
  {
   "cell_type": "markdown",
   "id": "0831d051",
   "metadata": {},
   "source": [
    "### This is a good start but it also cannot fit the function because these values are in serperated dictionaries, a good result shuld look like the one below"
   ]
  },
  {
   "cell_type": "code",
   "execution_count": 17,
   "id": "16a5f85e",
   "metadata": {},
   "outputs": [
    {
     "data": {
      "text/plain": [
       "{'rouge1': [0.3939393939393939,\n",
       "  0.4324324324324324,\n",
       "  0.3478260869565218,\n",
       "  0.42592592592592593,\n",
       "  0.42592592592592593,\n",
       "  0.4324324324324324,\n",
       "  0.3934426229508197,\n",
       "  0.3934426229508197,\n",
       "  0.38095238095238093,\n",
       "  0.42592592592592593,\n",
       "  0.49645390070921985],\n",
       " 'rouge2': [0.13846153846153847,\n",
       "  0.16513761467889906,\n",
       "  0.12578616352201258,\n",
       "  0.1509433962264151,\n",
       "  0.1509433962264151,\n",
       "  0.16513761467889906,\n",
       "  0.15000000000000002,\n",
       "  0.15000000000000002,\n",
       "  0.15533980582524268,\n",
       "  0.1509433962264151,\n",
       "  0.18705035971223022],\n",
       " 'rougeL': [0.2727272727272727,\n",
       "  0.3063063063063063,\n",
       "  0.1739130434782609,\n",
       "  0.27777777777777773,\n",
       "  0.27777777777777773,\n",
       "  0.3063063063063063,\n",
       "  0.26229508196721313,\n",
       "  0.22950819672131145,\n",
       "  0.24761904761904763,\n",
       "  0.27777777777777773,\n",
       "  0.25531914893617025],\n",
       " 'rougeLsum': [0.2727272727272727,\n",
       "  0.3063063063063063,\n",
       "  0.1739130434782609,\n",
       "  0.27777777777777773,\n",
       "  0.27777777777777773,\n",
       "  0.3063063063063063,\n",
       "  0.26229508196721313,\n",
       "  0.22950819672131145,\n",
       "  0.24761904761904763,\n",
       "  0.27777777777777773,\n",
       "  0.25531914893617025]}"
      ]
     },
     "execution_count": 17,
     "metadata": {},
     "output_type": "execute_result"
    }
   ],
   "source": [
    "{'rouge1': [0.3939393939393939, 0.4324324324324324, 0.3478260869565218, 0.42592592592592593, 0.42592592592592593, 0.4324324324324324, 0.3934426229508197, 0.3934426229508197, 0.38095238095238093, 0.42592592592592593, 0.49645390070921985], 'rouge2': [0.13846153846153847, 0.16513761467889906, 0.12578616352201258, 0.1509433962264151, 0.1509433962264151, 0.16513761467889906, 0.15000000000000002, 0.15000000000000002, 0.15533980582524268, 0.1509433962264151, 0.18705035971223022], 'rougeL': [0.2727272727272727, 0.3063063063063063, 0.1739130434782609, 0.27777777777777773, 0.27777777777777773, 0.3063063063063063, 0.26229508196721313, 0.22950819672131145, 0.24761904761904763, 0.27777777777777773, 0.25531914893617025], 'rougeLsum': [0.2727272727272727, 0.3063063063063063, 0.1739130434782609, 0.27777777777777773, 0.27777777777777773, 0.3063063063063063, 0.26229508196721313, 0.22950819672131145, 0.24761904761904763, 0.27777777777777773, 0.25531914893617025]}"
   ]
  },
  {
   "cell_type": "markdown",
   "id": "87423b8e",
   "metadata": {},
   "source": [
    "### custom code a bleu function"
   ]
  },
  {
   "cell_type": "code",
   "execution_count": 18,
   "id": "f63f4bcb",
   "metadata": {},
   "outputs": [],
   "source": [
    "import evaluate\n",
    "class custom_blue():\n",
    "    \n",
    "    def __init__(self):\n",
    "        self.model = evaluate.load(\"sacrebleu\")\n",
    "    \n",
    "    #input is [str,str,str]\n",
    "    #hard coded the score\n",
    "    def compute(self, predictions, references):\n",
    "        result = {'score':[]}\n",
    "        for p,r in zip(predictions, references):\n",
    "            result['score'].append(self.model.compute(predictions=[p], references=[r])['score'])\n",
    "        return result"
   ]
  },
  {
   "cell_type": "code",
   "execution_count": 19,
   "id": "cb169870",
   "metadata": {},
   "outputs": [
    {
     "data": {
      "text/plain": [
       "{'score': [5.141544895026856,\n",
       "  9.52398752064215,\n",
       "  3.8636626550648483,\n",
       "  7.972619098465378,\n",
       "  8.300702902525652]}"
      ]
     },
     "execution_count": 19,
     "metadata": {},
     "output_type": "execute_result"
    }
   ],
   "source": [
    "custom_blue().compute(predictions, references)"
   ]
  },
  {
   "cell_type": "code",
   "execution_count": null,
   "id": "993eec30",
   "metadata": {},
   "outputs": [],
   "source": []
  },
  {
   "cell_type": "code",
   "execution_count": null,
   "id": "143aa3a4",
   "metadata": {},
   "outputs": [],
   "source": []
  }
 ],
 "metadata": {
  "kernelspec": {
   "display_name": "Python 3",
   "language": "python",
   "name": "python3"
  },
  "language_info": {
   "codemirror_mode": {
    "name": "ipython",
    "version": 3
   },
   "file_extension": ".py",
   "mimetype": "text/x-python",
   "name": "python",
   "nbconvert_exporter": "python",
   "pygments_lexer": "ipython3",
   "version": "3.8.5"
  }
 },
 "nbformat": 4,
 "nbformat_minor": 5
}
