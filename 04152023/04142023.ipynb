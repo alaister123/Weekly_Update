{
 "cells": [
  {
   "cell_type": "markdown",
   "id": "bae988d7",
   "metadata": {},
   "source": [
    "# Weekly Report"
   ]
  },
  {
   "cell_type": "markdown",
   "id": "edca5b40",
   "metadata": {},
   "source": [
    "Read\n",
    "--\n",
    "\n",
    "[Reference-free Summarization Evaluation via Semantic Correlation and\n",
    "Compression Ratio](https://aclanthology.org/2022.naacl-main.153.pdf)\n",
    "\n",
    "[DocAsRef: A Pilot Empirical Study on Repurposing Reference-Based\n",
    "Summary Quality Metrics Reference-Freely](https://arxiv.org/pdf/2212.10013.pdf)\n",
    "\n",
    "[A Training-free and Reference-free Summarization Evaluation Metric via\n",
    "Centrality-weighted Relevance and Self-referenced Redundancy](https://aclanthology.org/2021.acl-long.34.pdf)\n",
    "\n",
    "[REUSE: REference-free UnSupervised quality Estimation Metric](https://aclanthology.org/2022.wmt-1.50.pdf)\n",
    "\n",
    "\n",
    "\n",
    "\n",
    "Code\n",
    "--\n",
    "\n",
    "Some coding with Transfomers' Library\n",
    "\n",
    "Getting Familiar with EvalBase\n"
   ]
  },
  {
   "cell_type": "code",
   "execution_count": null,
   "id": "6dd9b4d3",
   "metadata": {},
   "outputs": [],
   "source": []
  }
 ],
 "metadata": {
  "kernelspec": {
   "display_name": "Python 3",
   "language": "python",
   "name": "python3"
  },
  "language_info": {
   "codemirror_mode": {
    "name": "ipython",
    "version": 3
   },
   "file_extension": ".py",
   "mimetype": "text/x-python",
   "name": "python",
   "nbconvert_exporter": "python",
   "pygments_lexer": "ipython3",
   "version": "3.8.5"
  }
 },
 "nbformat": 4,
 "nbformat_minor": 5
}
