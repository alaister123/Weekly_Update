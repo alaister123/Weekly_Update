{
 "cells": [
  {
   "cell_type": "code",
   "execution_count": 1,
   "id": "f8447934",
   "metadata": {},
   "outputs": [],
   "source": [
    "import numpy as np \n",
    "import pandas as pd\n",
    "from transformers import AutoTokenizer\n",
    "from transformers import AutoModel\n",
    "import tensorflow as tf\n",
    "from keras.utils import to_categorical\n",
    "from sklearn import preprocessing\n",
    "from sklearn.model_selection import train_test_split\n",
    "from tensorflow.keras import regularizers"
   ]
  },
  {
   "cell_type": "code",
   "execution_count": null,
   "id": "8869132e",
   "metadata": {},
   "outputs": [],
   "source": []
  },
  {
   "cell_type": "code",
   "execution_count": null,
   "id": "f4f24d68",
   "metadata": {},
   "outputs": [],
   "source": []
  },
  {
   "cell_type": "code",
   "execution_count": null,
   "id": "7e3e01a8",
   "metadata": {},
   "outputs": [],
   "source": []
  },
  {
   "cell_type": "code",
   "execution_count": null,
   "id": "f09cbf0a",
   "metadata": {},
   "outputs": [],
   "source": []
  },
  {
   "cell_type": "code",
   "execution_count": null,
   "id": "1e6d02a3",
   "metadata": {},
   "outputs": [],
   "source": []
  },
  {
   "cell_type": "code",
   "execution_count": null,
   "id": "81ed49e0",
   "metadata": {},
   "outputs": [],
   "source": []
  },
  {
   "cell_type": "code",
   "execution_count": null,
   "id": "54389d3f",
   "metadata": {},
   "outputs": [],
   "source": []
  },
  {
   "cell_type": "code",
   "execution_count": null,
   "id": "c540898f",
   "metadata": {},
   "outputs": [],
   "source": []
  },
  {
   "cell_type": "code",
   "execution_count": null,
   "id": "3c818d75",
   "metadata": {},
   "outputs": [],
   "source": [
    "sequence = \"In a hole in the ground there lived a hobbit.\"\n",
    "tokenizer = AutoTokenizer.from_pretrained(\"bert-base-uncased\")\n",
    "inputs = tokenizer(sequence)\n",
    "tokenizer.decode(inputs['input_ids'])"
   ]
  },
  {
   "cell_type": "code",
   "execution_count": null,
   "id": "863b2885",
   "metadata": {},
   "outputs": [],
   "source": [
    "a, b = output"
   ]
  },
  {
   "cell_type": "code",
   "execution_count": null,
   "id": "42f81b63",
   "metadata": {},
   "outputs": [],
   "source": [
    "b"
   ]
  },
  {
   "cell_type": "code",
   "execution_count": null,
   "id": "023a69aa",
   "metadata": {},
   "outputs": [],
   "source": [
    "a"
   ]
  },
  {
   "cell_type": "code",
   "execution_count": 17,
   "id": "08347c92",
   "metadata": {},
   "outputs": [],
   "source": [
    "def Net(bert, max_len=512):\n",
    "    \n",
    "    input_word_ids = tf.keras.Input(shape=(max_len,), dtype=tf.int32, name=\"input_word_ids\")\n",
    "    input_mask = tf.keras.Input(shape=(max_len,), dtype=tf.int32, name=\"input_mask\")\n",
    "    segment_ids = tf.keras.Input(shape=(max_len,), dtype=tf.int32, name=\"segment_ids\")\n",
    "    \n",
    "    \n",
    "    output = bert([input_word_ids, input_mask, segment_ids])\n",
    "    \n",
    "    pool = output['pooler_output']\n",
    "    \n",
    "    \n",
    "    \n",
    "    # tf.keras.initializers.glorot_normal() replace xavier_initializer()\n",
    "    layer = tf.keras.layers.Dense(128, activation='tanh', \\\n",
    "                                kernel_initializer=tf.keras.initializers.glorot_normal(), \\\n",
    "                                kernel_regularizer=regularizers.L2(1e-3), \\\n",
    "                                bias_initializer=tf.constant_initializer(1e-4))(pool)\n",
    "    \n",
    "    # temp replacement for the trucated normal initializer\n",
    "    logits = tf.keras.layers.Dense(1, activation='sigmoid', \\\n",
    "                      kernel_initializer=tf.random_normal_initializer(stddev=0.02), \\\n",
    "                      kernel_regularizer=regularizers.L2(1e-3), \\\n",
    "                      bias_regularizer=tf.zeros_initializer())(layer)\n",
    "    \n",
    "    \n",
    "    \n",
    "    out = logits\n",
    "    \n",
    "    model = tf.keras.models.Model(inputs=[input_word_ids, input_mask, segment_ids], outputs=out)\n",
    "    \n",
    "    # temp optimizer, need to look code for actual model\n",
    "    model.compile(tf.keras.optimizers.Adam(), \\\n",
    "                  loss='mse', \\\n",
    "                  metrics=['mse'])\n",
    "    \n",
    "    return model"
   ]
  },
  {
   "cell_type": "code",
   "execution_count": 7,
   "id": "192066ad",
   "metadata": {},
   "outputs": [],
   "source": [
    "tokenizer = AutoTokenizer.from_pretrained(\"bert-base-uncased\", model_max_length=512, return_tensors=\"tf\")"
   ]
  },
  {
   "cell_type": "code",
   "execution_count": 18,
   "id": "a37e0d23",
   "metadata": {},
   "outputs": [
    {
     "name": "stderr",
     "output_type": "stream",
     "text": [
      "Some layers from the model checkpoint at bert-base-uncased were not used when initializing TFBertModel: ['nsp___cls', 'mlm___cls']\n",
      "- This IS expected if you are initializing TFBertModel from the checkpoint of a model trained on another task or with another architecture (e.g. initializing a BertForSequenceClassification model from a BertForPreTraining model).\n",
      "- This IS NOT expected if you are initializing TFBertModel from the checkpoint of a model that you expect to be exactly identical (initializing a BertForSequenceClassification model from a BertForSequenceClassification model).\n",
      "All the layers of TFBertModel were initialized from the model checkpoint at bert-base-uncased.\n",
      "If your task is similar to the task the model of the checkpoint was trained on, you can already use TFBertModel for predictions without further training.\n"
     ]
    }
   ],
   "source": [
    "Bert = TFBertModel.from_pretrained(\"bert-base-uncased\")"
   ]
  },
  {
   "cell_type": "code",
   "execution_count": 19,
   "id": "5e02645c",
   "metadata": {},
   "outputs": [],
   "source": [
    "model = Net(Bert)"
   ]
  },
  {
   "cell_type": "code",
   "execution_count": null,
   "id": "849b8126",
   "metadata": {},
   "outputs": [],
   "source": [
    "sequence = \"In a hole in the ground there lived a hobbit.\"\n",
    "inputs = tokenizer(sequence)"
   ]
  },
  {
   "cell_type": "code",
   "execution_count": null,
   "id": "9d48ead4",
   "metadata": {},
   "outputs": [],
   "source": [
    "model = TFBertModel.from_pretrained(\"bert-base-uncased\")"
   ]
  },
  {
   "cell_type": "code",
   "execution_count": null,
   "id": "98bca504",
   "metadata": {},
   "outputs": [],
   "source": [
    "[inputs['input_ids'],inputs['token_type_ids'],inputs['attention_mask']]"
   ]
  },
  {
   "cell_type": "code",
   "execution_count": null,
   "id": "afe02357",
   "metadata": {},
   "outputs": [],
   "source": [
    "model = TFBertModel.from_pretrained(\"bert-base-uncased\")\n",
    "tokenizer = AutoTokenizer.from_pretrained(\"bert-base-uncased\", model_max_length=512, return_tensors=\"tf\")\n",
    "inputs = tokenizer(\"Hello, my dog is cute\", return_tensors=\"tf\")\n",
    "print(inputs)\n",
    "outputs = model(input_ids = inputs['input_ids'], token_type_ids= inputs['token_type_ids'],attention_mask = attention_mask['input_ids'])"
   ]
  },
  {
   "cell_type": "code",
   "execution_count": null,
   "id": "16db5f32",
   "metadata": {},
   "outputs": [],
   "source": [
    "outputs = model([inputs['input_ids'],inputs['token_type_ids'],inputs['attention_mask']])"
   ]
  },
  {
   "cell_type": "code",
   "execution_count": null,
   "id": "045281af",
   "metadata": {},
   "outputs": [],
   "source": [
    "outputs"
   ]
  },
  {
   "cell_type": "code",
   "execution_count": null,
   "id": "947c6902",
   "metadata": {},
   "outputs": [],
   "source": [
    "model = AutoModel.from_pretrained(\"tf_model.h5\")"
   ]
  },
  {
   "cell_type": "code",
   "execution_count": null,
   "id": "6788268c",
   "metadata": {},
   "outputs": [],
   "source": []
  },
  {
   "cell_type": "code",
   "execution_count": null,
   "id": "39ef0aac",
   "metadata": {},
   "outputs": [],
   "source": [
    "from transformers import AutoTokenizer, TFBertForMaskedLM\n",
    "import tensorflow as tf\n",
    "\n",
    "tokenizer = AutoTokenizer.from_pretrained(\"bert-base-uncased\")\n",
    "model = TFBertForMaskedLM.from_pretrained(\"bert-base-uncased\")\n",
    "\n",
    "inputs = tokenizer(\"The capital of France is [MASK].\", return_tensors=\"tf\")\n",
    "logits = model(**inputs).logits\n",
    "\n",
    "# retrieve index of [MASK]\n",
    "mask_token_index = tf.where((inputs.input_ids == tokenizer.mask_token_id)[0])\n",
    "selected_logits = tf.gather_nd(logits[0], indices=mask_token_index)\n",
    "\n",
    "predicted_token_id = tf.math.argmax(selected_logits, axis=-1)\n",
    "tokenizer.decode(predicted_token_id)"
   ]
  },
  {
   "cell_type": "code",
   "execution_count": 5,
   "id": "775cf8d3",
   "metadata": {},
   "outputs": [
    {
     "name": "stderr",
     "output_type": "stream",
     "text": [
      "Some layers from the model checkpoint at bert-base-uncased were not used when initializing TFBertModel: ['nsp___cls', 'mlm___cls']\n",
      "- This IS expected if you are initializing TFBertModel from the checkpoint of a model trained on another task or with another architecture (e.g. initializing a BertForSequenceClassification model from a BertForPreTraining model).\n",
      "- This IS NOT expected if you are initializing TFBertModel from the checkpoint of a model that you expect to be exactly identical (initializing a BertForSequenceClassification model from a BertForSequenceClassification model).\n",
      "All the layers of TFBertModel were initialized from the model checkpoint at bert-base-uncased.\n",
      "If your task is similar to the task the model of the checkpoint was trained on, you can already use TFBertModel for predictions without further training.\n"
     ]
    }
   ],
   "source": [
    "from transformers import AutoTokenizer, TFBertModel\n",
    "import tensorflow as tf\n",
    "\n",
    "tokenizer = AutoTokenizer.from_pretrained(\"bert-base-uncased\")\n",
    "model = TFBertModel.from_pretrained(\"bert-base-uncased\")\n",
    "\n",
    "inputs = tokenizer(\"Hello, my dog is cute\", return_tensors=\"tf\")\n",
    "outputs = model(inputs)\n",
    "\n",
    "last_hidden_states = outputs.last_hidden_state"
   ]
  },
  {
   "cell_type": "code",
   "execution_count": null,
   "id": "f34152a7",
   "metadata": {},
   "outputs": [],
   "source": [
    "last_hidden_states"
   ]
  },
  {
   "cell_type": "code",
   "execution_count": null,
   "id": "c8ee5208",
   "metadata": {},
   "outputs": [],
   "source": [
    "tokens = tokenizer(sequence, return_tensors=\"pt\")\n",
    "model = AutoModel.from_pretrained(\"bert-base-uncased\")\n",
    "output = model(**tokens)"
   ]
  },
  {
   "cell_type": "code",
   "execution_count": null,
   "id": "2e583b1b",
   "metadata": {},
   "outputs": [],
   "source": [
    "a, b = output"
   ]
  },
  {
   "cell_type": "code",
   "execution_count": null,
   "id": "08925fb0",
   "metadata": {},
   "outputs": [],
   "source": [
    "b"
   ]
  },
  {
   "cell_type": "code",
   "execution_count": null,
   "id": "823fcadd",
   "metadata": {},
   "outputs": [],
   "source": [
    "output['pooler_output'].shape"
   ]
  },
  {
   "cell_type": "code",
   "execution_count": null,
   "id": "e11ad802",
   "metadata": {},
   "outputs": [],
   "source": [
    "a, b = outputs"
   ]
  },
  {
   "cell_type": "code",
   "execution_count": null,
   "id": "1a8b2ec1",
   "metadata": {},
   "outputs": [],
   "source": [
    "a, b = model(**tokens)"
   ]
  },
  {
   "cell_type": "code",
   "execution_count": null,
   "id": "2d119e93",
   "metadata": {},
   "outputs": [],
   "source": [
    "outputs['pooler_output']"
   ]
  },
  {
   "cell_type": "code",
   "execution_count": null,
   "id": "6c8f6b24",
   "metadata": {},
   "outputs": [],
   "source": []
  }
 ],
 "metadata": {
  "kernelspec": {
   "display_name": "Python 3",
   "language": "python",
   "name": "python3"
  },
  "language_info": {
   "codemirror_mode": {
    "name": "ipython",
    "version": 3
   },
   "file_extension": ".py",
   "mimetype": "text/x-python",
   "name": "python",
   "nbconvert_exporter": "python",
   "pygments_lexer": "ipython3",
   "version": "3.8.5"
  }
 },
 "nbformat": 4,
 "nbformat_minor": 5
}
