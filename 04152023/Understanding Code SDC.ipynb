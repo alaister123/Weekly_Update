{
 "cells": [
  {
   "cell_type": "code",
   "execution_count": 1,
   "id": "d9c9391e",
   "metadata": {},
   "outputs": [],
   "source": [
    "from SDC_len import *"
   ]
  },
  {
   "cell_type": "code",
   "execution_count": 3,
   "id": "1a782402",
   "metadata": {},
   "outputs": [],
   "source": [
    "s = Shannon()"
   ]
  },
  {
   "cell_type": "code",
   "execution_count": 4,
   "id": "d81e4354",
   "metadata": {},
   "outputs": [],
   "source": [
    "doc = 'Mexican restaurant Chipotle has decided to tap into the $70 billion food delivery market by teaming up with an app to bring burritos straight to customers doors. The fast-casual chain will work with the Postmates app to begin offering delivery for online and mobile orders in 67 cities, according to a report in Nations Restaurant News. But Mexican food fans should know that the restaurant plans to add a nine per cent service charge - with the delivery fees for Postmates beginning at $5 and up, depending on distance and demand.'\n",
    "summ1 = 'Chipotle will now be available for delivery with the Postmates app. Online and mobile orders will be available in 67 cities.'\n",
    "summ2 = 'Postmates app will now be available for delivery with the Chipotle. Online and mobile orders will be available in 67 cities.'"
   ]
  },
  {
   "cell_type": "code",
   "execution_count": 5,
   "id": "a7ba1c39",
   "metadata": {},
   "outputs": [],
   "source": [
    "results1 = s.go(doc, summ1)\n",
    "results2 = s.go(doc, summ2)"
   ]
  },
  {
   "cell_type": "code",
   "execution_count": 6,
   "id": "38b12b20",
   "metadata": {},
   "outputs": [],
   "source": [
    "x = results1[1]\n",
    "y = results2[0] "
   ]
  },
  {
   "cell_type": "code",
   "execution_count": 14,
   "id": "35520ab9",
   "metadata": {},
   "outputs": [
    {
     "name": "stdout",
     "output_type": "stream",
     "text": [
      "CosineSim 0.9999999999999895\n",
      "Pearson PearsonRResult(statistic=0.9999999999998694, pvalue=0.0)\n",
      "Spearman SignificanceResult(statistic=1.0, pvalue=0.0)\n",
      "Kendalltau SignificanceResult(statistic=1.0, pvalue=2.2533456069383647e-52)\n"
     ]
    }
   ],
   "source": [
    "c = 1 - spatial.distance.cosine(x, y)\n",
    "print('CosineSim', c)\n",
    "p = scipy.stats.pearsonr(x, y)    # Pearson's r\n",
    "print('Pearson',p)\n",
    "s = scipy.stats.spearmanr(x, y)   # Spearman's rho\n",
    "print('Spearman',s)\n",
    "tau = scipy.stats.kendalltau(x, y)  # Ke\n",
    "print('Kendalltau',tau)"
   ]
  },
  {
   "cell_type": "code",
   "execution_count": null,
   "id": "0c347bad",
   "metadata": {},
   "outputs": [],
   "source": []
  },
  {
   "cell_type": "code",
   "execution_count": 8,
   "id": "e19c806e",
   "metadata": {},
   "outputs": [
    {
     "name": "stdout",
     "output_type": "stream",
     "text": [
      "CosineSim 0.9999999999999895\n",
      "Pearson PearsonRResult(statistic=0.9999999999998694, pvalue=0.0)\n",
      "Spearman SignificanceResult(statistic=1.0, pvalue=0.0)\n",
      "Kendalltau SignificanceResult(statistic=1.0, pvalue=2.2533456069383647e-52)\n"
     ]
    }
   ],
   "source": [
    "x = results2[1]\n",
    "y = results2[0] \n",
    "c = 1 - spatial.distance.cosine(x, y)\n",
    "print('CosineSim', c)\n",
    "p = scipy.stats.pearsonr(x, y)    # Pearson's r\n",
    "print('Pearson',p)\n",
    "s = scipy.stats.spearmanr(x, y)   # Spearman's rho\n",
    "print('Spearman',s)\n",
    "tau = scipy.stats.kendalltau(x, y)  # Ke\n",
    "print('Kendalltau',tau)"
   ]
  },
  {
   "cell_type": "code",
   "execution_count": 9,
   "id": "84bd1177",
   "metadata": {},
   "outputs": [],
   "source": [
    "summ3=\"The McDonald brother s introduced the Golden Arches logo in 1953 at an outlet in Arizona. There is a fascinating history behind the trademark. Originally, a single yellow arch was used\""
   ]
  },
  {
   "cell_type": "code",
   "execution_count": 11,
   "id": "bab226de",
   "metadata": {},
   "outputs": [],
   "source": [
    "result3= Shannon().go(doc, summ3)"
   ]
  },
  {
   "cell_type": "code",
   "execution_count": 13,
   "id": "cac8160e",
   "metadata": {},
   "outputs": [
    {
     "name": "stdout",
     "output_type": "stream",
     "text": [
      "CosineSim 0.9999999999999895\n",
      "Pearson PearsonRResult(statistic=0.9999999999998694, pvalue=0.0)\n",
      "Spearman SignificanceResult(statistic=1.0, pvalue=0.0)\n",
      "Kendalltau SignificanceResult(statistic=1.0, pvalue=2.2533456069383647e-52)\n"
     ]
    }
   ],
   "source": [
    "x = result3[1]\n",
    "y = result3[0] \n",
    "c = 1 - spatial.distance.cosine(x, y)\n",
    "print('CosineSim', c)\n",
    "p = scipy.stats.pearsonr(x, y)    # Pearson's r\n",
    "print('Pearson',p)\n",
    "s = scipy.stats.spearmanr(x, y)   # Spearman's rho\n",
    "print('Spearman',s)\n",
    "tau = scipy.stats.kendalltau(x, y)  # Ke\n",
    "print('Kendalltau',tau)"
   ]
  },
  {
   "cell_type": "code",
   "execution_count": null,
   "id": "fd8e6c48",
   "metadata": {},
   "outputs": [],
   "source": []
  },
  {
   "cell_type": "code",
   "execution_count": null,
   "id": "45a30de5",
   "metadata": {},
   "outputs": [],
   "source": [
    "results1[4]"
   ]
  },
  {
   "cell_type": "code",
   "execution_count": null,
   "id": "d00f3d01",
   "metadata": {},
   "outputs": [],
   "source": [
    "results1[0][1:10]"
   ]
  },
  {
   "cell_type": "code",
   "execution_count": null,
   "id": "ba84d38a",
   "metadata": {},
   "outputs": [],
   "source": [
    "results1[1][1:10]"
   ]
  },
  {
   "cell_type": "code",
   "execution_count": null,
   "id": "d6e59ae7",
   "metadata": {},
   "outputs": [],
   "source": [
    "results1[2][1:10]"
   ]
  },
  {
   "cell_type": "markdown",
   "id": "7fc216e5",
   "metadata": {},
   "source": [
    "# Result 1 Good Summary"
   ]
  },
  {
   "cell_type": "code",
   "execution_count": 61,
   "id": "ef817311",
   "metadata": {},
   "outputs": [],
   "source": [
    "dt_base, dt_help, dt_full, num_doc_tokens, num_summ_tokens = results1"
   ]
  },
  {
   "cell_type": "code",
   "execution_count": 62,
   "id": "8fab01c1",
   "metadata": {},
   "outputs": [],
   "source": [
    "cr = 1-float(num_summ_tokens/num_doc_tokens)\n",
    "x = dt_base\n",
    "y = dt_help\n",
    "p = scipy.stats.pearsonr(x, y)[0]    # Pearson's r\n",
    "ss = scipy.stats.spearmanr(x, y)[0]   # Spearman's rho\n",
    "tau = scipy.stats.kendalltau(x, y)[0]  # Ke"
   ]
  },
  {
   "cell_type": "code",
   "execution_count": 63,
   "id": "a61af4fb",
   "metadata": {},
   "outputs": [
    {
     "data": {
      "text/plain": [
       "0.8691099476439543"
      ]
     },
     "execution_count": 63,
     "metadata": {},
     "output_type": "execute_result"
    }
   ],
   "source": [
    "(p+1)*cr/((p+1)/2+cr)"
   ]
  },
  {
   "cell_type": "code",
   "execution_count": 64,
   "id": "2d2f12c3",
   "metadata": {},
   "outputs": [
    {
     "data": {
      "text/plain": [
       "0.869109947643979"
      ]
     },
     "execution_count": 64,
     "metadata": {},
     "output_type": "execute_result"
    }
   ],
   "source": [
    "(ss+1)*cr/((ss+1)/2+cr)"
   ]
  },
  {
   "cell_type": "code",
   "execution_count": 65,
   "id": "43d57c28",
   "metadata": {},
   "outputs": [
    {
     "data": {
      "text/plain": [
       "0.869109947643979"
      ]
     },
     "execution_count": 65,
     "metadata": {},
     "output_type": "execute_result"
    }
   ],
   "source": [
    "(tau+1)*cr/((tau+1)/2+cr)"
   ]
  },
  {
   "cell_type": "markdown",
   "id": "b8c0e00d",
   "metadata": {},
   "source": [
    "# Result 3 Bad Summary talks about Macdonalds instead of Chipotle"
   ]
  },
  {
   "cell_type": "code",
   "execution_count": 56,
   "id": "e17349b8",
   "metadata": {},
   "outputs": [],
   "source": [
    "dt_base, dt_help, dt_full, num_doc_tokens, num_summ_tokens = result3"
   ]
  },
  {
   "cell_type": "code",
   "execution_count": 57,
   "id": "524748e7",
   "metadata": {},
   "outputs": [],
   "source": [
    "cr = 1-float(num_summ_tokens/num_doc_tokens)\n",
    "x = dt_base\n",
    "y = dt_help\n",
    "p = scipy.stats.pearsonr(x, y)[0]    # Pearson's r\n",
    "ss = scipy.stats.spearmanr(x, y)[0]   # Spearman's rho\n",
    "tau = scipy.stats.kendalltau(x, y)[0]  # Ke"
   ]
  },
  {
   "cell_type": "code",
   "execution_count": 58,
   "id": "907fad1f",
   "metadata": {},
   "outputs": [
    {
     "data": {
      "text/plain": [
       "0.8066298342541224"
      ]
     },
     "execution_count": 58,
     "metadata": {},
     "output_type": "execute_result"
    }
   ],
   "source": [
    "(p+1)*cr/((p+1)/2+cr)"
   ]
  },
  {
   "cell_type": "code",
   "execution_count": 59,
   "id": "3f6d9dc5",
   "metadata": {},
   "outputs": [
    {
     "data": {
      "text/plain": [
       "0.8066298342541436"
      ]
     },
     "execution_count": 59,
     "metadata": {},
     "output_type": "execute_result"
    }
   ],
   "source": [
    "(ss+1)*cr/((ss+1)/2+cr)"
   ]
  },
  {
   "cell_type": "code",
   "execution_count": 60,
   "id": "6c2aceb8",
   "metadata": {},
   "outputs": [
    {
     "data": {
      "text/plain": [
       "0.8066298342541436"
      ]
     },
     "execution_count": 60,
     "metadata": {},
     "output_type": "execute_result"
    }
   ],
   "source": [
    "(tau+1)*cr/((tau+1)/2+cr)"
   ]
  },
  {
   "cell_type": "code",
   "execution_count": null,
   "id": "16f75707",
   "metadata": {},
   "outputs": [],
   "source": []
  },
  {
   "cell_type": "markdown",
   "id": "b6c5fc30",
   "metadata": {},
   "source": [
    "# IDK what this is, some code the person wrote in the github repo"
   ]
  },
  {
   "cell_type": "code",
   "execution_count": 51,
   "id": "695f6fd2",
   "metadata": {},
   "outputs": [],
   "source": [
    "dt_base, dt_help, dt_full, num_doc_tokens, num_summ_tokens = results1\n",
    "cr = 1-float(num_summ_tokens/num_doc_tokens)\n",
    "x = dt_base\n",
    "y = dt_help\n",
    "p = scipy.stats.pearsonr(x, y)[0]    # Pearson's r\n",
    "ss = scipy.stats.spearmanr(x, y)[0]   # Spearman's rho\n",
    "tau = scipy.stats.kendalltau(x, y)[0]  # Ke"
   ]
  },
  {
   "cell_type": "code",
   "execution_count": 52,
   "id": "85761636",
   "metadata": {},
   "outputs": [],
   "source": [
    "p = 0-p\n",
    "s = 0-ss\n",
    "k = 0-tau"
   ]
  },
  {
   "cell_type": "code",
   "execution_count": 53,
   "id": "42d5a4a3",
   "metadata": {},
   "outputs": [
    {
     "data": {
      "text/plain": [
       "1.3056222769590877e-13"
      ]
     },
     "execution_count": 53,
     "metadata": {},
     "output_type": "execute_result"
    }
   ],
   "source": [
    "(p+1)/2*(1+cr)/((p+1)/2+(1+cr)/2)"
   ]
  },
  {
   "cell_type": "code",
   "execution_count": 54,
   "id": "aa43c178",
   "metadata": {},
   "outputs": [
    {
     "data": {
      "text/plain": [
       "0.0"
      ]
     },
     "execution_count": 54,
     "metadata": {},
     "output_type": "execute_result"
    }
   ],
   "source": [
    "(s+1)/2*(1+cr)/((s+1)/2+(1+cr)/2)"
   ]
  },
  {
   "cell_type": "code",
   "execution_count": 55,
   "id": "858202b6",
   "metadata": {},
   "outputs": [
    {
     "data": {
      "text/plain": [
       "0.0"
      ]
     },
     "execution_count": 55,
     "metadata": {},
     "output_type": "execute_result"
    }
   ],
   "source": [
    "(k+1)/2*(1+cr)/((k+1)/2+(1+cr)/2)"
   ]
  },
  {
   "cell_type": "markdown",
   "id": "d5e6c6a7",
   "metadata": {},
   "source": [
    "# Func for EvalBase"
   ]
  },
  {
   "cell_type": "code",
   "execution_count": 2,
   "id": "e384bc90",
   "metadata": {},
   "outputs": [],
   "source": [
    "from SDC import *\n",
    "class SDC_Star():\n",
    "    \n",
    "    def __init__(self):\n",
    "        self.model = Shannon().go\n",
    "    \n",
    "    \n",
    "    def compute(self,predictions, references):\n",
    "        result = {'sdc*_score':[]}\n",
    "        for pred,ref in zip(predictions, references):\n",
    "            \n",
    "            dt_base, dt_help, dt_full, num_doc_tokens, num_summ_tokens = self.model(ref,pred)\n",
    "            cr = 1-float(num_summ_tokens/num_doc_tokens)\n",
    "            \n",
    "            x = dt_base\n",
    "            y = dt_help\n",
    "            \n",
    "            p = scipy.stats.pearsonr(x, y)[0]    # Pearson's r\n",
    "            ss = scipy.stats.spearmanr(x, y)[0]   # Spearman's rho\n",
    "            tau = scipy.stats.kendalltau(x, y)[0]  # Ke\n",
    "            \n",
    "            pearson = (p+1)*cr/((p+1)/2+cr) # This is the formula they wrote for the code in sdc_len.py\n",
    "            \n",
    "            result['sdc*_score'].append(pearson)\n",
    "        return result"
   ]
  },
  {
   "cell_type": "code",
   "execution_count": 3,
   "id": "70260b82",
   "metadata": {},
   "outputs": [],
   "source": [
    "predictions = [\"With plenty at stake for both United and City -- both sides are challenging for a top-four spot in the Premier League -- some may feel that the 4pm start could be unwise as it allows supporters more time in the pub .    Police say they have no objections to the late afternoon kick-off for Sunday 's Manchester derby at Old Trafford .    However , the man in charge of patrolling the sell-out clash has no such fears .\",\n",
    " \"police say they have no objections to the late afternoon kick-off for sunday 's manchester derby at old trafford .   police say they have no objections to sunday 's manchester derby taking place in the late afternoon .   rio ferdinand was hit by an object thrown from the crowd during the manchester derby in december 2012 .\",\n",
    " \"Police say they have no objections to the late afternoon kick-off for Sunday 's Manchester derby at Old Trafford .   With plenty at stake for both United and City -- both sides are challenging for a top-four spot in the Premier League -- some may feel that the 4pm start could be unwise as it allows supporters more time in the pub .   However , the man in charge of patrolling the sell-out clash has no such fears .   Chief Superintendent John O'Hare says the kick-off was agreed by all parties and revealed that the decision is down to good behaviour from supporters of each side .\",\n",
    " \"police say they have no objections to the late afternoon kick-off for sunday 's manchester derby at old trafford .   police say they have no objections to sunday 's manchester derby taking place in the late afternoon   however , the man in charge of patrolling the sell-out clash has no such fears .\",\n",
    " \"police say they have no objections to the late afternoon kick-off for sunday 's manchester derby at old trafford .   police say they have no objections to sunday 's manchester derby taking place in the late afternoon .   however , the man in charge of patrolling the sell-out clash has no such fears .\"]"
   ]
  },
  {
   "cell_type": "code",
   "execution_count": 4,
   "id": "487a4f4d",
   "metadata": {},
   "outputs": [],
   "source": [
    "references = [\"manchester united take on manchester city on sunday .    match will begin at 4pm local time at united 's old trafford home .    police have no objections to kick-off being so late in the afternoon .    last late afternoon weekend kick-off in the manchester derby saw 34 fans arrested at wembley in 2011 fa cup semi-final .\",\n",
    " \"manchester united take on manchester city on sunday .    match will begin at 4pm local time at united 's old trafford home .    police have no objections to kick-off being so late in the afternoon .    last late afternoon weekend kick-off in the manchester derby saw 34 fans arrested at wembley in 2011 fa cup semi-final .\",\n",
    " \"manchester united take on manchester city on sunday .    match will begin at 4pm local time at united 's old trafford home .    police have no objections to kick-off being so late in the afternoon .    last late afternoon weekend kick-off in the manchester derby saw 34 fans arrested at wembley in 2011 fa cup semi-final .\",\n",
    " \"manchester united take on manchester city on sunday .    match will begin at 4pm local time at united 's old trafford home .    police have no objections to kick-off being so late in the afternoon .    last late afternoon weekend kick-off in the manchester derby saw 34 fans arrested at wembley in 2011 fa cup semi-final .\",\n",
    " \"manchester united take on manchester city on sunday .    match will begin at 4pm local time at united 's old trafford home .    police have no objections to kick-off being so late in the afternoon .    last late afternoon weekend kick-off in the manchester derby saw 34 fans arrested at wembley in 2011 fa cup semi-final .\"]"
   ]
  },
  {
   "cell_type": "code",
   "execution_count": 80,
   "id": "0f7a106f",
   "metadata": {},
   "outputs": [
    {
     "data": {
      "text/plain": [
       "{'sdc*_score': [-0.8800000000000405,\n",
       "  -0.0571428571428571,\n",
       "  -6.470588235296301,\n",
       "  0.10526315789473631,\n",
       "  0.0799999999999996]}"
      ]
     },
     "execution_count": 80,
     "metadata": {},
     "output_type": "execute_result"
    }
   ],
   "source": [
    "SDC_Star().compute(predictions, references)"
   ]
  },
  {
   "cell_type": "code",
   "execution_count": 5,
   "id": "9af9a8bb",
   "metadata": {},
   "outputs": [
    {
     "data": {
      "text/plain": [
       "{'sdc*_score': [-0.8800000000000405,\n",
       "  -0.0571428571428571,\n",
       "  -6.470588235296301,\n",
       "  0.10526315789473631,\n",
       "  0.0799999999999996]}"
      ]
     },
     "execution_count": 5,
     "metadata": {},
     "output_type": "execute_result"
    }
   ],
   "source": [
    "SDC_Star().compute(predictions, references)"
   ]
  },
  {
   "cell_type": "code",
   "execution_count": 83,
   "id": "4f72e287",
   "metadata": {},
   "outputs": [],
   "source": [
    "doc =  \"manchester united take on manchester city on sunday .    match will begin at 4pm local time at united 's old trafford home .    police have no objections to kick-off being so late in the afternoon .    last late afternoon weekend kick-off in the manchester derby saw 34 fans arrested at wembley in 2011 fa cup semi-final .\"\n",
    "pred = \"With plenty at stake for both United and City -- both sides are challenging for a top-four spot in the Premier League -- some may feel that the 4pm start could be unwise as it allows supporters more time in the pub .    Police say they have no objections to the late afternoon kick-off for Sunday 's Manchester derby at Old Trafford .    However , the man in charge of patrolling the sell-out clash has no such fears .\"\n",
    "results4 = Shannon().go(doc, pred)"
   ]
  },
  {
   "cell_type": "code",
   "execution_count": 84,
   "id": "0562460a",
   "metadata": {},
   "outputs": [],
   "source": [
    "dt_base, dt_help, dt_full, num_doc_tokens, num_summ_tokens = results4"
   ]
  },
  {
   "cell_type": "code",
   "execution_count": 85,
   "id": "efa48af5",
   "metadata": {},
   "outputs": [],
   "source": [
    "cr = 1-float(num_summ_tokens/num_doc_tokens)\n",
    "x = dt_base\n",
    "y = dt_help\n",
    "p = scipy.stats.pearsonr(x, y)[0]    # Pearson's r\n",
    "ss = scipy.stats.spearmanr(x, y)[0]   # Spearman's rho\n",
    "tau = scipy.stats.kendalltau(x, y)[0]  # Ke"
   ]
  },
  {
   "cell_type": "code",
   "execution_count": 86,
   "id": "14e5bb52",
   "metadata": {},
   "outputs": [
    {
     "data": {
      "text/plain": [
       "-0.8800000000000405"
      ]
     },
     "execution_count": 86,
     "metadata": {},
     "output_type": "execute_result"
    }
   ],
   "source": [
    "(p+1)*cr/((p+1)/2+cr)"
   ]
  },
  {
   "cell_type": "code",
   "execution_count": null,
   "id": "474475e9",
   "metadata": {},
   "outputs": [],
   "source": []
  }
 ],
 "metadata": {
  "kernelspec": {
   "display_name": "Python 3",
   "language": "python",
   "name": "python3"
  },
  "language_info": {
   "codemirror_mode": {
    "name": "ipython",
    "version": 3
   },
   "file_extension": ".py",
   "mimetype": "text/x-python",
   "name": "python",
   "nbconvert_exporter": "python",
   "pygments_lexer": "ipython3",
   "version": "3.8.5"
  }
 },
 "nbformat": 4,
 "nbformat_minor": 5
}
