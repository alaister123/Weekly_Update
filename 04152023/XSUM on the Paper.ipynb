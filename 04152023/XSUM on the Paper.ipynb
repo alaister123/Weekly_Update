{
 "cells": [
  {
   "cell_type": "code",
   "execution_count": 1,
   "id": "901ed21c",
   "metadata": {},
   "outputs": [],
   "source": [
    "from rouge import Rouge "
   ]
  },
  {
   "cell_type": "code",
   "execution_count": 2,
   "id": "52e8c37c",
   "metadata": {},
   "outputs": [],
   "source": [
    "document = \\\n",
    "'''\n",
    "\"The full cost of damage in Newton Stewart, one of the areas worst affected, is still being \n",
    "assessed. Repair work is ongoing in Hawick and many roads in Peeblesshire remain badly affected \n",
    "by standing water. Trains on the west coast mainline face disruption due to damage at the Lamington \n",
    "Viaduct. Many businesses and householders were affected by flooding in Newton Stewart after the River \n",
    "Cree overflowed into the town. First Minister Nicola Sturgeon visited the area to inspect the damage. \n",
    "The waters breached a retaining wall, flooding many commercial properties on Victoria Street - \n",
    "the main shopping thoroughfare. Jeanette Tate, who owns the Cinnamon Cafe which was badly affected, \n",
    "said she could not fault the multi-agency response once the flood hit. However, she said more \n",
    "preventative work could have been carried out to ensure the retaining wall did not fail. \n",
    "\"It is difficult but I do think there is so much publicity for Dumfries and the Nith - \n",
    "and I totally appreciate that - but it is almost like we're neglected or forgotten,\" she said. \n",
    "\"That may not be true but it is perhaps my perspective over the last few days. \"Why were you \n",
    "not ready to help us a bit more when the warning and the alarm alerts had gone out?\" Meanwhile, \n",
    "a flood alert remains in place across the Borders because of the constant rain. Peebles was badly \n",
    "hit by problems, sparking calls to introduce more defences in the area. Scottish Borders Council \n",
    "has put a list on its website of the roads worst affected and drivers have been urged not to ignore \n",
    "closure signs. The Labour Party's deputy Scottish leader Alex Rowley was in Hawick on Monday to see \n",
    "the situation first hand. He said it was important to get the flood protection plan right but backed \n",
    "calls to speed up the process. \"I was quite taken aback by the amount of damage that has been done,\" \n",
    "he said. \"Obviously it is heart-breaking for people who have been forced out of their homes and the \n",
    "impact on businesses.\" He said it was important that \"immediate steps\" were taken to protect the areas \n",
    "most vulnerable and a clear timetable put in place for flood prevention plans. Have you been affected \n",
    "by flooding in Dumfries and Galloway or the Borders? Tell us about your experience of the situation and \n",
    "how it was handled. Email us on selkirk.news@bbc.co.uk or dumfries@bbc.co.uk.\"\n",
    "'''"
   ]
  },
  {
   "cell_type": "code",
   "execution_count": 3,
   "id": "3743bfc7",
   "metadata": {},
   "outputs": [],
   "source": [
    "# assuming the summary came from machine \n",
    "summary = \"Clean-up operations are continuing across the Scottish Borders and Dumfries and Galloway after flooding caused by Storm Frank.\""
   ]
  },
  {
   "cell_type": "code",
   "execution_count": 4,
   "id": "6f6052b1",
   "metadata": {},
   "outputs": [],
   "source": [
    "def print_score(scores):\n",
    "    for i in scores[0]:\n",
    "        print(f'{i}:')\n",
    "        print('f1       ' + str(scores[0][i]['f']))\n",
    "        print('recall   ' + str(scores[0][i]['r']))\n",
    "        print('precision' + str(scores[0][i]['p']))\n",
    "        print('-------------------------------------')\n",
    "\n",
    "rouge = Rouge()\n",
    "\n",
    "\n",
    "# directly compare document with system summary\n",
    "scores = rouge.get_scores(summary, document)"
   ]
  },
  {
   "cell_type": "code",
   "execution_count": 5,
   "id": "87b43e41",
   "metadata": {},
   "outputs": [
    {
     "name": "stdout",
     "output_type": "stream",
     "text": [
      "rouge-1:\n",
      "f1       0.07812499876007081\n",
      "recall   0.04184100418410042\n",
      "precision0.5882352941176471\n",
      "-------------------------------------\n",
      "rouge-2:\n",
      "f1       0.020460357224507984\n",
      "recall   0.0106951871657754\n",
      "precision0.23529411764705882\n",
      "-------------------------------------\n",
      "rouge-l:\n",
      "f1       0.07031249876007081\n",
      "recall   0.03765690376569038\n",
      "precision0.5294117647058824\n",
      "-------------------------------------\n"
     ]
    }
   ],
   "source": [
    "print_score(scores)"
   ]
  },
  {
   "cell_type": "markdown",
   "id": "6cf6bbce",
   "metadata": {},
   "source": [
    "# Bleu"
   ]
  },
  {
   "cell_type": "code",
   "execution_count": 6,
   "id": "be3a241d",
   "metadata": {},
   "outputs": [],
   "source": [
    "from nltk.translate.bleu_score import sentence_bleu, SmoothingFunction"
   ]
  },
  {
   "cell_type": "code",
   "execution_count": 7,
   "id": "ba109c6e",
   "metadata": {},
   "outputs": [
    {
     "data": {
      "text/plain": [
       "0.003634432041948469"
      ]
     },
     "execution_count": 7,
     "metadata": {},
     "output_type": "execute_result"
    }
   ],
   "source": [
    "sentence_bleu([summary.split(' ')], document.split(' '), smoothing_function=SmoothingFunction().method1)"
   ]
  },
  {
   "cell_type": "code",
   "execution_count": null,
   "id": "a3b891e7",
   "metadata": {},
   "outputs": [],
   "source": []
  }
 ],
 "metadata": {
  "kernelspec": {
   "display_name": "Python 3",
   "language": "python",
   "name": "python3"
  },
  "language_info": {
   "codemirror_mode": {
    "name": "ipython",
    "version": 3
   },
   "file_extension": ".py",
   "mimetype": "text/x-python",
   "name": "python",
   "nbconvert_exporter": "python",
   "pygments_lexer": "ipython3",
   "version": "3.8.5"
  }
 },
 "nbformat": 4,
 "nbformat_minor": 5
}
