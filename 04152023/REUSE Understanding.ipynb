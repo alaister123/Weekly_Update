{
 "cells": [
  {
   "cell_type": "code",
   "execution_count": 1,
   "id": "0a789d07",
   "metadata": {},
   "outputs": [
    {
     "name": "stdout",
     "output_type": "stream",
     "text": [
      "cpu\n"
     ]
    }
   ],
   "source": [
    "from mChunker import *"
   ]
  },
  {
   "cell_type": "code",
   "execution_count": 2,
   "id": "0491de40",
   "metadata": {},
   "outputs": [],
   "source": [
    "import pickle\n",
    "import scipy\n",
    "import torch\n",
    "from torch import cuda\n",
    "from sentence_transformers import models, SentenceTransformer\n",
    "from transformers import BertTokenizerFast, BertConfig, BertForTokenClassification, BertTokenizer\n",
    "from transformers import AutoModel, AutoTokenizer\n",
    "import numpy as np\n",
    "from numpy import dot\n",
    "from numpy.linalg import norm\n",
    "device = 'cuda' if cuda.is_available() else 'cpu'"
   ]
  },
  {
   "cell_type": "code",
   "execution_count": 3,
   "id": "ffddc859",
   "metadata": {},
   "outputs": [],
   "source": [
    "path_to_Chunker_Model = \"ChunkerModel_BI\"\n",
    "tokenizer = BertTokenizerFast.from_pretrained(path_to_Chunker_Model)\n",
    "model = BertForTokenClassification.from_pretrained(path_to_Chunker_Model,output_attentions=True)\n",
    "model.to(device)\n",
    "with open(path_to_Chunker_Model + \"/idsToLabels_dict\", 'rb') as handle:\n",
    "    ids_to_labels = pickle.load(handle)"
   ]
  },
  {
   "cell_type": "code",
   "execution_count": 4,
   "id": "68e46a9a",
   "metadata": {},
   "outputs": [],
   "source": [
    "#load the tokenizer and model from pretrained sentence transformer model.\n",
    "path = \"sentence-transformers/distiluse-base-multilingual-cased\"\n",
    "sentemb_tokenizer = AutoTokenizer.from_pretrained(path)\n",
    "sentemb_Model = AutoModel.from_pretrained(path,output_hidden_states=True)"
   ]
  },
  {
   "cell_type": "code",
   "execution_count": null,
   "id": "1a2c2061",
   "metadata": {},
   "outputs": [],
   "source": [
    "predictions = [\"With plenty at stake for both United and City -- both sides are challenging for a top-four spot in the Premier League -- some may feel that the 4pm start could be unwise as it allows supporters more time in the pub .    Police say they have no objections to the late afternoon kick-off for Sunday 's Manchester derby at Old Trafford .    However , the man in charge of patrolling the sell-out clash has no such fears .\",\n",
    " \"police say they have no objections to the late afternoon kick-off for sunday 's manchester derby at old trafford .   police say they have no objections to sunday 's manchester derby taking place in the late afternoon .   rio ferdinand was hit by an object thrown from the crowd during the manchester derby in december 2012 .\",\n",
    " \"Police say they have no objections to the late afternoon kick-off for Sunday 's Manchester derby at Old Trafford .   With plenty at stake for both United and City -- both sides are challenging for a top-four spot in the Premier League -- some may feel that the 4pm start could be unwise as it allows supporters more time in the pub .   However , the man in charge of patrolling the sell-out clash has no such fears .   Chief Superintendent John O'Hare says the kick-off was agreed by all parties and revealed that the decision is down to good behaviour from supporters of each side .\",\n",
    " \"police say they have no objections to the late afternoon kick-off for sunday 's manchester derby at old trafford .   police say they have no objections to sunday 's manchester derby taking place in the late afternoon   however , the man in charge of patrolling the sell-out clash has no such fears .\",\n",
    " \"police say they have no objections to the late afternoon kick-off for sunday 's manchester derby at old trafford .   police say they have no objections to sunday 's manchester derby taking place in the late afternoon .   however , the man in charge of patrolling the sell-out clash has no such fears .\"]\n",
    "references = [\"manchester united take on manchester city on sunday .    match will begin at 4pm local time at united 's old trafford home .    police have no objections to kick-off being so late in the afternoon .    last late afternoon weekend kick-off in the manchester derby saw 34 fans arrested at wembley in 2011 fa cup semi-final .\",\n",
    " \"manchester united take on manchester city on sunday .    match will begin at 4pm local time at united 's old trafford home .    police have no objections to kick-off being so late in the afternoon .    last late afternoon weekend kick-off in the manchester derby saw 34 fans arrested at wembley in 2011 fa cup semi-final .\",\n",
    " \"manchester united take on manchester city on sunday .    match will begin at 4pm local time at united 's old trafford home .    police have no objections to kick-off being so late in the afternoon .    last late afternoon weekend kick-off in the manchester derby saw 34 fans arrested at wembley in 2011 fa cup semi-final .\",\n",
    " \"manchester united take on manchester city on sunday .    match will begin at 4pm local time at united 's old trafford home .    police have no objections to kick-off being so late in the afternoon .    last late afternoon weekend kick-off in the manchester derby saw 34 fans arrested at wembley in 2011 fa cup semi-final .\",\n",
    " \"manchester united take on manchester city on sunday .    match will begin at 4pm local time at united 's old trafford home .    police have no objections to kick-off being so late in the afternoon .    last late afternoon weekend kick-off in the manchester derby saw 34 fans arrested at wembley in 2011 fa cup semi-final .\"]"
   ]
  },
  {
   "cell_type": "code",
   "execution_count": 6,
   "id": "bed364be",
   "metadata": {},
   "outputs": [],
   "source": []
  },
  {
   "cell_type": "code",
   "execution_count": null,
   "id": "9f945ce2",
   "metadata": {},
   "outputs": [],
   "source": []
  },
  {
   "cell_type": "code",
   "execution_count": null,
   "id": "b6931499",
   "metadata": {},
   "outputs": [],
   "source": []
  },
  {
   "cell_type": "code",
   "execution_count": null,
   "id": "67e04157",
   "metadata": {},
   "outputs": [],
   "source": []
  },
  {
   "cell_type": "code",
   "execution_count": null,
   "id": "02b9ea85",
   "metadata": {},
   "outputs": [],
   "source": []
  },
  {
   "cell_type": "code",
   "execution_count": null,
   "id": "45c3953c",
   "metadata": {},
   "outputs": [],
   "source": []
  },
  {
   "cell_type": "code",
   "execution_count": null,
   "id": "e3b7c675",
   "metadata": {},
   "outputs": [],
   "source": []
  },
  {
   "cell_type": "code",
   "execution_count": null,
   "id": "0dd49108",
   "metadata": {},
   "outputs": [],
   "source": []
  },
  {
   "cell_type": "code",
   "execution_count": null,
   "id": "859644e3",
   "metadata": {},
   "outputs": [],
   "source": []
  },
  {
   "cell_type": "code",
   "execution_count": null,
   "id": "8f766317",
   "metadata": {},
   "outputs": [],
   "source": []
  },
  {
   "cell_type": "code",
   "execution_count": 1,
   "id": "db75dc96",
   "metadata": {},
   "outputs": [
    {
     "ename": "NameError",
     "evalue": "name 'getChunkBasedScore' is not defined",
     "output_type": "error",
     "traceback": [
      "\u001b[1;31m---------------------------------------------------------------------------\u001b[0m",
      "\u001b[1;31mNameError\u001b[0m                                 Traceback (most recent call last)",
      "\u001b[1;32m<ipython-input-1-c161c22c11b3>\u001b[0m in \u001b[0;36m<module>\u001b[1;34m\u001b[0m\n\u001b[1;32m----> 1\u001b[1;33m \u001b[0mscore\u001b[0m \u001b[1;33m=\u001b[0m \u001b[0mgetChunkBasedScore\u001b[0m\u001b[1;33m(\u001b[0m\u001b[0mreferences\u001b[0m\u001b[1;33m,\u001b[0m\u001b[0mpredictions\u001b[0m\u001b[1;33m)\u001b[0m\u001b[1;33m\u001b[0m\u001b[1;33m\u001b[0m\u001b[0m\n\u001b[0m\u001b[0;32m      2\u001b[0m \u001b[0mprint\u001b[0m\u001b[1;33m(\u001b[0m\u001b[0mscore\u001b[0m\u001b[1;33m)\u001b[0m\u001b[1;33m\u001b[0m\u001b[1;33m\u001b[0m\u001b[0m\n",
      "\u001b[1;31mNameError\u001b[0m: name 'getChunkBasedScore' is not defined"
     ]
    }
   ],
   "source": [
    "score = getChunkBasedScore(references,predictions)\n",
    "print(score)"
   ]
  },
  {
   "cell_type": "code",
   "execution_count": 5,
   "id": "57218fb4",
   "metadata": {},
   "outputs": [],
   "source": [
    "from mChunker import getChunkBasedScore\n",
    "\n",
    "class REUSE_score():\n",
    "    \n",
    "    def __init__(self):\n",
    "        self.model = getChunkBasedScore\n",
    "        \n",
    "    def compute(self,predictions, references):\n",
    "        result = {'REUSE_score':self.model(references, predictions)}\n",
    "        return result"
   ]
  },
  {
   "cell_type": "code",
   "execution_count": 6,
   "id": "67f7a4b6",
   "metadata": {},
   "outputs": [],
   "source": [
    "predictions = [\"With plenty at stake for both United and City -- both sides are challenging for a top-four spot in the Premier League -- some may feel that the 4pm start could be unwise as it allows supporters more time in the pub .    Police say they have no objections to the late afternoon kick-off for Sunday 's Manchester derby at Old Trafford .    However , the man in charge of patrolling the sell-out clash has no such fears .\",\n",
    " \"police say they have no objections to the late afternoon kick-off for sunday 's manchester derby at old trafford .   police say they have no objections to sunday 's manchester derby taking place in the late afternoon .   rio ferdinand was hit by an object thrown from the crowd during the manchester derby in december 2012 .\",\n",
    " \"Police say they have no objections to the late afternoon kick-off for Sunday 's Manchester derby at Old Trafford .   With plenty at stake for both United and City -- both sides are challenging for a top-four spot in the Premier League -- some may feel that the 4pm start could be unwise as it allows supporters more time in the pub .   However , the man in charge of patrolling the sell-out clash has no such fears .   Chief Superintendent John O'Hare says the kick-off was agreed by all parties and revealed that the decision is down to good behaviour from supporters of each side .\",\n",
    " \"police say they have no objections to the late afternoon kick-off for sunday 's manchester derby at old trafford .   police say they have no objections to sunday 's manchester derby taking place in the late afternoon   however , the man in charge of patrolling the sell-out clash has no such fears .\",\n",
    " \"police say they have no objections to the late afternoon kick-off for sunday 's manchester derby at old trafford .   police say they have no objections to sunday 's manchester derby taking place in the late afternoon .   however , the man in charge of patrolling the sell-out clash has no such fears .\"]\n",
    "references = [\"manchester united take on manchester city on sunday .    match will begin at 4pm local time at united 's old trafford home .    police have no objections to kick-off being so late in the afternoon .    last late afternoon weekend kick-off in the manchester derby saw 34 fans arrested at wembley in 2011 fa cup semi-final .\",\n",
    " \"manchester united take on manchester city on sunday .    match will begin at 4pm local time at united 's old trafford home .    police have no objections to kick-off being so late in the afternoon .    last late afternoon weekend kick-off in the manchester derby saw 34 fans arrested at wembley in 2011 fa cup semi-final .\",\n",
    " \"manchester united take on manchester city on sunday .    match will begin at 4pm local time at united 's old trafford home .    police have no objections to kick-off being so late in the afternoon .    last late afternoon weekend kick-off in the manchester derby saw 34 fans arrested at wembley in 2011 fa cup semi-final .\",\n",
    " \"manchester united take on manchester city on sunday .    match will begin at 4pm local time at united 's old trafford home .    police have no objections to kick-off being so late in the afternoon .    last late afternoon weekend kick-off in the manchester derby saw 34 fans arrested at wembley in 2011 fa cup semi-final .\",\n",
    " \"manchester united take on manchester city on sunday .    match will begin at 4pm local time at united 's old trafford home .    police have no objections to kick-off being so late in the afternoon .    last late afternoon weekend kick-off in the manchester derby saw 34 fans arrested at wembley in 2011 fa cup semi-final .\"]"
   ]
  },
  {
   "cell_type": "code",
   "execution_count": 7,
   "id": "fd49f631",
   "metadata": {},
   "outputs": [
    {
     "name": "stdout",
     "output_type": "stream",
     "text": [
      "hello\n",
      "hello\n",
      "hello\n",
      "hello\n",
      "hello\n"
     ]
    },
    {
     "data": {
      "text/plain": [
       "{'REUSE_score': [0.6734391581335996,\n",
       "  0.7052348878587099,\n",
       "  0.36145271587381833,\n",
       "  0.6657609879444091,\n",
       "  0.674742507117918]}"
      ]
     },
     "execution_count": 7,
     "metadata": {},
     "output_type": "execute_result"
    }
   ],
   "source": [
    "REUSE_score().compute(predictions,references)"
   ]
  },
  {
   "cell_type": "code",
   "execution_count": null,
   "id": "99e91e7d",
   "metadata": {},
   "outputs": [],
   "source": []
  }
 ],
 "metadata": {
  "kernelspec": {
   "display_name": "Python 3",
   "language": "python",
   "name": "python3"
  },
  "language_info": {
   "codemirror_mode": {
    "name": "ipython",
    "version": 3
   },
   "file_extension": ".py",
   "mimetype": "text/x-python",
   "name": "python",
   "nbconvert_exporter": "python",
   "pygments_lexer": "ipython3",
   "version": "3.8.5"
  }
 },
 "nbformat": 4,
 "nbformat_minor": 5
}
